{
 "cells": [
  {
   "cell_type": "markdown",
   "id": "1036e5f6",
   "metadata": {},
   "source": [
    "## 1- Descriptive analysis"
   ]
  },
  {
   "cell_type": "code",
   "execution_count": 1,
   "id": "57ac5eed",
   "metadata": {},
   "outputs": [
    {
     "data": {
      "text/html": [
       "<table>\n",
       "<thead><tr><th scope=col>User_ID</th><th scope=col>Gender</th><th scope=col>City_Category</th><th scope=col>Stay_In_Current_City_Years</th><th scope=col>Marital_Status</th><th scope=col>Age_num</th><th scope=col>Purchase</th></tr></thead>\n",
       "<tbody>\n",
       "\t<tr><td>1003311</td><td>M      </td><td>A      </td><td>4      </td><td>0      </td><td>30     </td><td> 3169  </td></tr>\n",
       "\t<tr><td>1005583</td><td>M      </td><td>B      </td><td>2      </td><td>1      </td><td>58     </td><td>20453  </td></tr>\n",
       "\t<tr><td>1001702</td><td>M      </td><td>C      </td><td>2      </td><td>0      </td><td>23     </td><td> 7053  </td></tr>\n",
       "\t<tr><td>1001390</td><td>M      </td><td>C      </td><td>3      </td><td>1      </td><td>43     </td><td> 7947  </td></tr>\n",
       "\t<tr><td>1000048</td><td>M      </td><td>B      </td><td>3      </td><td>1      </td><td>34     </td><td> 5265  </td></tr>\n",
       "\t<tr><td>1005767</td><td>M      </td><td>B      </td><td>0      </td><td>0      </td><td>33     </td><td>12748  </td></tr>\n",
       "</tbody>\n",
       "</table>\n"
      ],
      "text/latex": [
       "\\begin{tabular}{r|lllllll}\n",
       " User\\_ID & Gender & City\\_Category & Stay\\_In\\_Current\\_City\\_Years & Marital\\_Status & Age\\_num & Purchase\\\\\n",
       "\\hline\n",
       "\t 1003311 & M       & A       & 4       & 0       & 30      &  3169  \\\\\n",
       "\t 1005583 & M       & B       & 2       & 1       & 58      & 20453  \\\\\n",
       "\t 1001702 & M       & C       & 2       & 0       & 23      &  7053  \\\\\n",
       "\t 1001390 & M       & C       & 3       & 1       & 43      &  7947  \\\\\n",
       "\t 1000048 & M       & B       & 3       & 1       & 34      &  5265  \\\\\n",
       "\t 1005767 & M       & B       & 0       & 0       & 33      & 12748  \\\\\n",
       "\\end{tabular}\n"
      ],
      "text/markdown": [
       "\n",
       "| User_ID | Gender | City_Category | Stay_In_Current_City_Years | Marital_Status | Age_num | Purchase |\n",
       "|---|---|---|---|---|---|---|\n",
       "| 1003311 | M       | A       | 4       | 0       | 30      |  3169   |\n",
       "| 1005583 | M       | B       | 2       | 1       | 58      | 20453   |\n",
       "| 1001702 | M       | C       | 2       | 0       | 23      |  7053   |\n",
       "| 1001390 | M       | C       | 3       | 1       | 43      |  7947   |\n",
       "| 1000048 | M       | B       | 3       | 1       | 34      |  5265   |\n",
       "| 1005767 | M       | B       | 0       | 0       | 33      | 12748   |\n",
       "\n"
      ],
      "text/plain": [
       "  User_ID Gender City_Category Stay_In_Current_City_Years Marital_Status\n",
       "1 1003311 M      A             4                          0             \n",
       "2 1005583 M      B             2                          1             \n",
       "3 1001702 M      C             2                          0             \n",
       "4 1001390 M      C             3                          1             \n",
       "5 1000048 M      B             3                          1             \n",
       "6 1005767 M      B             0                          0             \n",
       "  Age_num Purchase\n",
       "1 30       3169   \n",
       "2 58      20453   \n",
       "3 23       7053   \n",
       "4 43       7947   \n",
       "5 34       5265   \n",
       "6 33      12748   "
      ]
     },
     "metadata": {},
     "output_type": "display_data"
    }
   ],
   "source": [
    "# png(file=\"normal.png\")\n",
    "# dev.off()\n",
    "data_purchase = read.csv(\"data_purchase_behaviour.csv\")\n",
    "head(data_purchase)"
   ]
  },
  {
   "cell_type": "markdown",
   "id": "f9eb9dd3",
   "metadata": {},
   "source": [
    "### a- Lists variables in the dataset"
   ]
  },
  {
   "cell_type": "code",
   "execution_count": 2,
   "id": "ea95262b",
   "metadata": {},
   "outputs": [
    {
     "data": {
      "text/html": [
       "<ol class=list-inline>\n",
       "\t<li>'User_ID'</li>\n",
       "\t<li>'Gender'</li>\n",
       "\t<li>'City_Category'</li>\n",
       "\t<li>'Stay_In_Current_City_Years'</li>\n",
       "\t<li>'Marital_Status'</li>\n",
       "\t<li>'Age_num'</li>\n",
       "\t<li>'Purchase'</li>\n",
       "</ol>\n"
      ],
      "text/latex": [
       "\\begin{enumerate*}\n",
       "\\item 'User\\_ID'\n",
       "\\item 'Gender'\n",
       "\\item 'City\\_Category'\n",
       "\\item 'Stay\\_In\\_Current\\_City\\_Years'\n",
       "\\item 'Marital\\_Status'\n",
       "\\item 'Age\\_num'\n",
       "\\item 'Purchase'\n",
       "\\end{enumerate*}\n"
      ],
      "text/markdown": [
       "1. 'User_ID'\n",
       "2. 'Gender'\n",
       "3. 'City_Category'\n",
       "4. 'Stay_In_Current_City_Years'\n",
       "5. 'Marital_Status'\n",
       "6. 'Age_num'\n",
       "7. 'Purchase'\n",
       "\n",
       "\n"
      ],
      "text/plain": [
       "[1] \"User_ID\"                    \"Gender\"                    \n",
       "[3] \"City_Category\"              \"Stay_In_Current_City_Years\"\n",
       "[5] \"Marital_Status\"             \"Age_num\"                   \n",
       "[7] \"Purchase\"                  "
      ]
     },
     "metadata": {},
     "output_type": "display_data"
    }
   ],
   "source": [
    "names(data_purchase)"
   ]
  },
  {
   "cell_type": "code",
   "execution_count": 3,
   "id": "15460054",
   "metadata": {},
   "outputs": [
    {
     "name": "stdout",
     "output_type": "stream",
     "text": [
      "'data.frame':\t159000 obs. of  7 variables:\n",
      " $ User_ID                   : int  1003311 1005583 1001702 1001390 1000048 1005767 1002414 1001391 1003684 1004808 ...\n",
      " $ Gender                    : Factor w/ 2 levels \"F\",\"M\": 2 2 2 2 2 2 2 2 2 2 ...\n",
      " $ City_Category             : Factor w/ 3 levels \"A\",\"B\",\"C\": 1 2 3 3 2 2 3 3 3 1 ...\n",
      " $ Stay_In_Current_City_Years: int  4 2 2 3 3 0 4 0 4 1 ...\n",
      " $ Marital_Status            : int  0 1 0 1 1 0 1 1 1 1 ...\n",
      " $ Age_num                   : int  30 58 23 43 34 33 33 44 30 43 ...\n",
      " $ Purchase                  : int  3169 20453 7053 7947 5265 12748 8578 15621 5203 9941 ...\n"
     ]
    }
   ],
   "source": [
    "str(data_purchase)"
   ]
  },
  {
   "cell_type": "markdown",
   "id": "ba802ecd",
   "metadata": {},
   "source": [
    "###  b- Summary of the dataset"
   ]
  },
  {
   "cell_type": "code",
   "execution_count": 4,
   "id": "de7a9f9a",
   "metadata": {},
   "outputs": [
    {
     "data": {
      "text/plain": [
       "    User_ID        Gender     City_Category Stay_In_Current_City_Years\n",
       " Min.   :1000001   F: 39374   A:42368       Min.   :0.000             \n",
       " 1st Qu.:1001523   M:119626   B:67102       1st Qu.:1.000             \n",
       " Median :1003084              C:49530       Median :2.000             \n",
       " Mean   :1003033                            Mean   :1.856             \n",
       " 3rd Qu.:1004482                            3rd Qu.:3.000             \n",
       " Max.   :1006040                            Max.   :4.000             \n",
       " Marital_Status     Age_num         Purchase    \n",
       " Min.   :0.000   Min.   :10.00   Min.   :   12  \n",
       " 1st Qu.:0.000   1st Qu.:27.00   1st Qu.: 5828  \n",
       " Median :0.000   Median :33.00   Median : 8044  \n",
       " Mean   :0.411   Mean   :34.81   Mean   : 9270  \n",
       " 3rd Qu.:1.000   3rd Qu.:42.00   3rd Qu.:12059  \n",
       " Max.   :1.000   Max.   :75.00   Max.   :23961  "
      ]
     },
     "metadata": {},
     "output_type": "display_data"
    }
   ],
   "source": [
    "summary(data_purchase)"
   ]
  },
  {
   "cell_type": "markdown",
   "id": "5c15934c",
   "metadata": {},
   "source": [
    "## c- Some plots for the Quantitative variables"
   ]
  },
  {
   "cell_type": "markdown",
   "id": "250c4eac",
   "metadata": {},
   "source": [
    "### Variable Purchase and Age_num"
   ]
  },
  {
   "cell_type": "code",
   "execution_count": 5,
   "id": "9cb4fa5d",
   "metadata": {},
   "outputs": [
    {
     "data": {
      "text/html": [
       "<ol class=list-inline>\n",
       "\t<li>1</li>\n",
       "\t<li>2</li>\n",
       "</ol>\n"
      ],
      "text/latex": [
       "\\begin{enumerate*}\n",
       "\\item 1\n",
       "\\item 2\n",
       "\\end{enumerate*}\n"
      ],
      "text/markdown": [
       "1. 1\n",
       "2. 2\n",
       "\n",
       "\n"
      ],
      "text/plain": [
       "[1] 1 2"
      ]
     },
     "metadata": {},
     "output_type": "display_data"
    },
    {
     "data": {
      "image/png": "[encoded data removed]",
      "text/plain": [
       "Plot with title \"Boxplot for Age\""
      ]
     },
     "metadata": {},
     "output_type": "display_data"
    }
   ],
   "source": [
    "split.screen(1:2);\n",
    "screen(2);\n",
    "boxplot(data_purchase[c('Purchase')],\n",
    "        col = c(\"yellow\"),          \n",
    "        main = paste(\"Boxplot for Purchase\"),    \n",
    "        ylab = \"Quantiles\")             \n",
    "screen(1);\n",
    "boxplot(data_purchase[c('Age_num')],\n",
    "        col = c(\"yellow\"),                 \n",
    "        main = paste(\"Boxplot for Age\"),     \n",
    "        ylab = \"Quantiles\")  "
   ]
  },
  {
   "cell_type": "markdown",
   "id": "d89ff777",
   "metadata": {},
   "source": [
    "### Histogram for Purchase and Age_num"
   ]
  },
  {
   "cell_type": "code",
   "execution_count": 6,
   "id": "38a59af4",
   "metadata": {},
   "outputs": [
    {
     "name": "stderr",
     "output_type": "stream",
     "text": [
      "Warning message in par(new = TRUE):\n",
      "\"appel de par(new=TRUE) sans graphe\""
     ]
    },
    {
     "data": {
      "text/html": [
       "<ol class=list-inline>\n",
       "\t<li>3</li>\n",
       "\t<li>4</li>\n",
       "</ol>\n"
      ],
      "text/latex": [
       "\\begin{enumerate*}\n",
       "\\item 3\n",
       "\\item 4\n",
       "\\end{enumerate*}\n"
      ],
      "text/markdown": [
       "1. 3\n",
       "2. 4\n",
       "\n",
       "\n"
      ],
      "text/plain": [
       "[1] 3 4"
      ]
     },
     "metadata": {},
     "output_type": "display_data"
    },
    {
     "data": {
      "image/png": "[encoded data removed]",
      "text/plain": [
       "Plot with title \"Histogram for Purchase\""
      ]
     },
     "metadata": {},
     "output_type": "display_data"
    }
   ],
   "source": [
    "split.screen(1:2);\n",
    "screen(2);\n",
    "hist(data_purchase$Age_num, \n",
    "      col = c(\"orange\"),\n",
    "      main = paste(\"Histogram for Age_num\"),\n",
    "      xlab = \"Age_num\")            \n",
    "screen(1);\n",
    "hist(data_purchase$Purchase, \n",
    "      col = c(\"orange\"),\n",
    "      main = paste(\"Histogram for Purchase\"),\n",
    "      xlab = \"Purchase\")  "
   ]
  },
  {
   "cell_type": "markdown",
   "id": "6496125b",
   "metadata": {},
   "source": [
    "## d- Some plot for qualitatives variables"
   ]
  },
  {
   "cell_type": "code",
   "execution_count": 7,
   "id": "8d30c27d",
   "metadata": {},
   "outputs": [
    {
     "data": {
      "image/png": "[encoded data removed]",
      "text/plain": [
       "Plot with title \"GENDER DISTRIBUTION\""
      ]
     },
     "metadata": {},
     "output_type": "display_data"
    }
   ],
   "source": [
    "plot(data_purchase$Gender,ylim =c(0,160000),xlab=c(\"GENDER F=FEMALE M=MALE\"),main=\"GENDER DISTRIBUTION\",col=\"lightgreen\")"
   ]
  },
  {
   "cell_type": "code",
   "execution_count": 8,
   "id": "b6dc348c",
   "metadata": {},
   "outputs": [
    {
     "data": {
      "image/png": "[encoded data removed]",
      "text/plain": [
       "Plot with title \"BOXPLOT OF PURCHASE AMOUNT ACCORDING TO GENDER\""
      ]
     },
     "metadata": {},
     "output_type": "display_data"
    }
   ],
   "source": [
    "plot(data_purchase$Gender,data_purchase$Purchase,main=\"BOXPLOT OF PURCHASE AMOUNT ACCORDING TO GENDER\",xlab=\"GENDER\",ylab=\"PURCHASE AMOUNT\",col =\"peachpuff\")"
   ]
  },
  {
   "cell_type": "code",
   "execution_count": 9,
   "id": "35d22b1b",
   "metadata": {},
   "outputs": [],
   "source": [
    "data_purchase$Marital_Status <- factor(data_purchase$Marital_Status,levels = c(0,1),labels = c(\"UNMARRIED\",\"MARRIED\"))"
   ]
  },
  {
   "cell_type": "code",
   "execution_count": 10,
   "id": "d57e2b0c",
   "metadata": {},
   "outputs": [
    {
     "data": {
      "image/png": "[encoded data removed]",
      "text/plain": [
       "Plot with title \"COUNT OF MARITAL STATUS\""
      ]
     },
     "metadata": {},
     "output_type": "display_data"
    }
   ],
   "source": [
    "plot(data_purchase$Marital_Status,ylim=c(0,120000),main=\"COUNT OF MARITAL STATUS\",col=\"lightblue\")"
   ]
  },
  {
   "cell_type": "markdown",
   "id": "fa544ce7",
   "metadata": {},
   "source": [
    "### Some useful comment about the dataset"
   ]
  },
  {
   "cell_type": "markdown",
   "id": "88f60bce",
   "metadata": {},
   "source": [
    "### TOTAL CUSTOMER AND THEIR AGES"
   ]
  },
  {
   "cell_type": "code",
   "execution_count": 11,
   "id": "232ea42f",
   "metadata": {},
   "outputs": [
    {
     "data": {
      "image/png": "[encoded data removed]",
      "text/plain": [
       "plot without title"
      ]
     },
     "metadata": {},
     "output_type": "display_data"
    }
   ],
   "source": [
    "library(ggplot2)\n",
    "g1<-ggplot(data_purchase, aes(x=Age_num, y=Purchase)) + geom_col(aes(col=Gender),size=2,width = 0.8)\n",
    "plot(g1)"
   ]
  },
  {
   "cell_type": "markdown",
   "id": "f68e7693",
   "metadata": {},
   "source": [
    "### PURCHASE VS CUSTOMER STAY IN CITY"
   ]
  },
  {
   "cell_type": "code",
   "execution_count": 12,
   "id": "a2db7206",
   "metadata": {},
   "outputs": [
    {
     "data": {
      "image/png": "[encoded data removed]",
      "text/plain": [
       "plot without title"
      ]
     },
     "metadata": {},
     "output_type": "display_data"
    }
   ],
   "source": [
    "library(ggplot2)\n",
    "g1<- ggplot(data_purchase,aes(x=Stay_In_Current_City_Years))+geom_bar(size=2,col=\"steelblue2\",)+\n",
    "  labs(y=\"PURCHASE AMOUNT\")\n",
    "plot(g1)"
   ]
  },
  {
   "cell_type": "code",
   "execution_count": 13,
   "id": "ad470e6a",
   "metadata": {},
   "outputs": [
    {
     "data": {
      "image/png": "[encoded data removed]",
      "text/plain": [
       "plot without title"
      ]
     },
     "metadata": {},
     "output_type": "display_data"
    }
   ],
   "source": [
    "library(ggplot2)\n",
    "g2<-ggplot(data_purchase, aes(x=Gender, y=Purchase)) + geom_col(aes(col=Marital_Status),size=2,width = 0.8)\n",
    "plot(g2)"
   ]
  },
  {
   "cell_type": "code",
   "execution_count": 14,
   "id": "8f02c823",
   "metadata": {},
   "outputs": [
    {
     "data": {
      "image/png": "[encoded data removed]",
      "text/plain": [
       "plot without title"
      ]
     },
     "metadata": {},
     "output_type": "display_data"
    }
   ],
   "source": [
    "g3<-ggplot(data_purchase, aes(x=Marital_Status, y=Purchase)) + geom_col(aes(col=Gender),size=2,width = 0.8)\n",
    "plot(g3)"
   ]
  },
  {
   "cell_type": "code",
   "execution_count": 15,
   "id": "340198d9",
   "metadata": {},
   "outputs": [
    {
     "data": {
      "image/png": "[encoded data removed]",
      "text/plain": [
       "plot without title"
      ]
     },
     "metadata": {},
     "output_type": "display_data"
    }
   ],
   "source": [
    "plot(data_purchase$City_Category)"
   ]
  },
  {
   "cell_type": "markdown",
   "id": "8536e62d",
   "metadata": {},
   "source": [
    "### CORRELATION MATRIX"
   ]
  },
  {
   "cell_type": "code",
   "execution_count": 16,
   "id": "83175eed",
   "metadata": {},
   "outputs": [
    {
     "data": {
      "text/html": [
       "<table>\n",
       "<thead><tr><th></th><th scope=col>User_ID</th><th scope=col>Stay_In_Current_City_Years</th><th scope=col>Age_num</th><th scope=col>Purchase</th></tr></thead>\n",
       "<tbody>\n",
       "\t<tr><th scope=row>User_ID</th><td> 1.00</td><td>-0.03</td><td> 0.04</td><td>0.01 </td></tr>\n",
       "\t<tr><th scope=row>Stay_In_Current_City_Years</th><td>-0.03</td><td> 1.00</td><td>-0.01</td><td>0.00 </td></tr>\n",
       "\t<tr><th scope=row>Age_num</th><td> 0.04</td><td>-0.01</td><td> 1.00</td><td>0.02 </td></tr>\n",
       "\t<tr><th scope=row>Purchase</th><td> 0.01</td><td> 0.00</td><td> 0.02</td><td>1.00 </td></tr>\n",
       "</tbody>\n",
       "</table>\n"
      ],
      "text/latex": [
       "\\begin{tabular}{r|llll}\n",
       "  & User\\_ID & Stay\\_In\\_Current\\_City\\_Years & Age\\_num & Purchase\\\\\n",
       "\\hline\n",
       "\tUser\\_ID &  1.00 & -0.03 &  0.04 & 0.01 \\\\\n",
       "\tStay\\_In\\_Current\\_City\\_Years & -0.03 &  1.00 & -0.01 & 0.00 \\\\\n",
       "\tAge\\_num &  0.04 & -0.01 &  1.00 & 0.02 \\\\\n",
       "\tPurchase &  0.01 &  0.00 &  0.02 & 1.00 \\\\\n",
       "\\end{tabular}\n"
      ],
      "text/markdown": [
       "\n",
       "| <!--/--> | User_ID | Stay_In_Current_City_Years | Age_num | Purchase |\n",
       "|---|---|---|---|---|\n",
       "| User_ID |  1.00 | -0.03 |  0.04 | 0.01  |\n",
       "| Stay_In_Current_City_Years | -0.03 |  1.00 | -0.01 | 0.00  |\n",
       "| Age_num |  0.04 | -0.01 |  1.00 | 0.02  |\n",
       "| Purchase |  0.01 |  0.00 |  0.02 | 1.00  |\n",
       "\n"
      ],
      "text/plain": [
       "                           User_ID Stay_In_Current_City_Years Age_num Purchase\n",
       "User_ID                     1.00   -0.03                       0.04   0.01    \n",
       "Stay_In_Current_City_Years -0.03    1.00                      -0.01   0.00    \n",
       "Age_num                     0.04   -0.01                       1.00   0.02    \n",
       "Purchase                    0.01    0.00                       0.02   1.00    "
      ]
     },
     "metadata": {},
     "output_type": "display_data"
    }
   ],
   "source": [
    "round(cor(Filter(is.numeric, data_purchase)),2)"
   ]
  },
  {
   "cell_type": "markdown",
   "id": "9b626322",
   "metadata": {},
   "source": [
    "# 2a- Simple linear regression"
   ]
  },
  {
   "cell_type": "code",
   "execution_count": 17,
   "id": "3600f802",
   "metadata": {},
   "outputs": [],
   "source": [
    "Age = data_purchase$Age_num\n",
    "Purchase = data_purchase$Purchase"
   ]
  },
  {
   "cell_type": "markdown",
   "id": "9fcddc3e",
   "metadata": {},
   "source": [
    "### The summary of the model gives the intercept, the slope and the uncertainties"
   ]
  },
  {
   "cell_type": "code",
   "execution_count": 18,
   "id": "17b059d6",
   "metadata": {},
   "outputs": [
    {
     "data": {
      "text/plain": [
       "\n",
       "Call:\n",
       "lm(formula = Purchase ~ Age_num, data = data_purchase)\n",
       "\n",
       "Residuals:\n",
       "   Min     1Q Median     3Q    Max \n",
       " -9518  -3505  -1226   2800  14804 \n",
       "\n",
       "Coefficients:\n",
       "            Estimate Std. Error t value Pr(>|t|)    \n",
       "(Intercept) 9037.936     39.369 229.568  < 2e-16 ***\n",
       "Age_num        6.681      1.072   6.234 4.55e-10 ***\n",
       "---\n",
       "Signif. codes:  0 '***' 0.001 '**' 0.01 '*' 0.05 '.' 0.1 ' ' 1\n",
       "\n",
       "Residual standard error: 5026 on 158998 degrees of freedom\n",
       "Multiple R-squared:  0.0002444,\tAdjusted R-squared:  0.0002381 \n",
       "F-statistic: 38.87 on 1 and 158998 DF,  p-value: 4.547e-10\n"
      ]
     },
     "metadata": {},
     "output_type": "display_data"
    }
   ],
   "source": [
    "simple.fit = lm(Purchase~Age_num, data=data_purchase)\n",
    "summary(simple.fit)"
   ]
  },
  {
   "cell_type": "markdown",
   "id": "72c3fd33",
   "metadata": {},
   "source": [
    "# 3-"
   ]
  },
  {
   "cell_type": "markdown",
   "id": "9a36a7ab",
   "metadata": {},
   "source": [
    "### We change M to 0 and F to 1 in our dataset"
   ]
  },
  {
   "cell_type": "code",
   "execution_count": 19,
   "id": "cd668c34",
   "metadata": {},
   "outputs": [],
   "source": [
    "data_purchase$Gender <- factor(data_purchase$Gender,levels = c('M','F'),labels = c(0,1))"
   ]
  },
  {
   "cell_type": "code",
   "execution_count": 20,
   "id": "ad9f5925",
   "metadata": {},
   "outputs": [
    {
     "data": {
      "text/plain": [
       "\n",
       "Call:\n",
       "lm(formula = Purchase ~ Gender, data = data_purchase)\n",
       "\n",
       "Residuals:\n",
       "   Min     1Q Median     3Q    Max \n",
       " -9433  -3481  -1234   2855  15215 \n",
       "\n",
       "Coefficients:\n",
       "            Estimate Std. Error t value Pr(>|t|)    \n",
       "(Intercept)  9445.13      14.51   651.1   <2e-16 ***\n",
       "Gender1      -705.37      29.15   -24.2   <2e-16 ***\n",
       "---\n",
       "Signif. codes:  0 '***' 0.001 '**' 0.01 '*' 0.05 '.' 0.1 ' ' 1\n",
       "\n",
       "Residual standard error: 5017 on 158998 degrees of freedom\n",
       "Multiple R-squared:  0.003669,\tAdjusted R-squared:  0.003663 \n",
       "F-statistic: 585.5 on 1 and 158998 DF,  p-value: < 2.2e-16\n"
      ]
     },
     "metadata": {},
     "output_type": "display_data"
    }
   ],
   "source": [
    "simple.fit2 = lm(Purchase~Gender, data=data_purchase)\n",
    "summary(simple.fit2)"
   ]
  }
 ],
 "metadata": {
  "kernelspec": {
   "display_name": "R",
   "language": "R",
   "name": "ir"
  },
  "language_info": {
   "codemirror_mode": "r",
   "file_extension": ".r",
   "mimetype": "text/x-r-source",
   "name": "R",
   "pygments_lexer": "r",
   "version": "3.6.1"
  }
 },
 "nbformat": 4,
 "nbformat_minor": 5
}
