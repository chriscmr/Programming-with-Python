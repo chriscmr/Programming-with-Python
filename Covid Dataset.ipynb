{
 "cells": [
  {
   "cell_type": "code",
   "execution_count": 268,
   "id": "1072882d",
   "metadata": {},
   "outputs": [],
   "source": [
    "import pandas as pd\n",
    "import tensorflow as tf\n",
    "import seaborn as sns\n",
    "from sklearn import metrics\n",
    "import numpy as np\n",
    "import datetime\n",
    "import warnings\n",
    "import matplotlib.pyplot as plt\n",
    "from sklearn.linear_model import LinearRegression, Ridge, Lasso, ElasticNet\n",
    "from sklearn.linear_model import LogisticRegression\n",
    "from sklearn.model_selection import train_test_split\n",
    "from sklearn.metrics import confusion_matrix, accuracy_score, mean_squared_error\n",
    "warnings.filterwarnings(\"ignore\")\n",
    "from sklearn.tree import DecisionTreeRegressor, export_graphviz, plot_tree\n",
    "from sklearn.ensemble import RandomForestRegressor"
   ]
  },
  {
   "cell_type": "markdown",
   "id": "06ff65ed",
   "metadata": {},
   "source": [
    "# I-"
   ]
  },
  {
   "cell_type": "markdown",
   "id": "86a2f373",
   "metadata": {},
   "source": [
    "## We upload the dataset WHO-COVID-19-global-data.csv and we print some random elements of the dataset"
   ]
  },
  {
   "cell_type": "code",
   "execution_count": 269,
   "id": "1b8a1dec",
   "metadata": {},
   "outputs": [
    {
     "data": {
      "text/html": [
       "<div>\n",
       "<style scoped>\n",
       "    .dataframe tbody tr th:only-of-type {\n",
       "        vertical-align: middle;\n",
       "    }\n",
       "\n",
       "    .dataframe tbody tr th {\n",
       "        vertical-align: top;\n",
       "    }\n",
       "\n",
       "    .dataframe thead th {\n",
       "        text-align: right;\n",
       "    }\n",
       "</style>\n",
       "<table border=\"1\" class=\"dataframe\">\n",
       "  <thead>\n",
       "    <tr style=\"text-align: right;\">\n",
       "      <th></th>\n",
       "      <th>Date_reported</th>\n",
       "      <th>Country_code</th>\n",
       "      <th>Country</th>\n",
       "      <th>WHO_region</th>\n",
       "      <th>New_cases</th>\n",
       "      <th>Cumulative_cases</th>\n",
       "      <th>New_deaths</th>\n",
       "      <th>Cumulative_deaths</th>\n",
       "    </tr>\n",
       "  </thead>\n",
       "  <tbody>\n",
       "    <tr>\n",
       "      <th>10568</th>\n",
       "      <td>2020-09-22</td>\n",
       "      <td>BH</td>\n",
       "      <td>Bahrain</td>\n",
       "      <td>EMRO</td>\n",
       "      <td>713</td>\n",
       "      <td>65752</td>\n",
       "      <td>3</td>\n",
       "      <td>224</td>\n",
       "    </tr>\n",
       "    <tr>\n",
       "      <th>94838</th>\n",
       "      <td>2020-02-04</td>\n",
       "      <td>ME</td>\n",
       "      <td>Montenegro</td>\n",
       "      <td>EURO</td>\n",
       "      <td>0</td>\n",
       "      <td>0</td>\n",
       "      <td>0</td>\n",
       "      <td>0</td>\n",
       "    </tr>\n",
       "    <tr>\n",
       "      <th>91611</th>\n",
       "      <td>2020-08-30</td>\n",
       "      <td>YT</td>\n",
       "      <td>Mayotte</td>\n",
       "      <td>AFRO</td>\n",
       "      <td>0</td>\n",
       "      <td>3301</td>\n",
       "      <td>0</td>\n",
       "      <td>40</td>\n",
       "    </tr>\n",
       "    <tr>\n",
       "      <th>72478</th>\n",
       "      <td>2020-12-11</td>\n",
       "      <td>JP</td>\n",
       "      <td>Japan</td>\n",
       "      <td>WPRO</td>\n",
       "      <td>2969</td>\n",
       "      <td>171542</td>\n",
       "      <td>37</td>\n",
       "      <td>2502</td>\n",
       "    </tr>\n",
       "    <tr>\n",
       "      <th>33592</th>\n",
       "      <td>2021-09-10</td>\n",
       "      <td>CI</td>\n",
       "      <td>Côte d’Ivoire</td>\n",
       "      <td>AFRO</td>\n",
       "      <td>131</td>\n",
       "      <td>57424</td>\n",
       "      <td>4</td>\n",
       "      <td>492</td>\n",
       "    </tr>\n",
       "    <tr>\n",
       "      <th>54737</th>\n",
       "      <td>2021-04-11</td>\n",
       "      <td>GH</td>\n",
       "      <td>Ghana</td>\n",
       "      <td>AFRO</td>\n",
       "      <td>151</td>\n",
       "      <td>91260</td>\n",
       "      <td>2</td>\n",
       "      <td>754</td>\n",
       "    </tr>\n",
       "    <tr>\n",
       "      <th>93276</th>\n",
       "      <td>2021-06-17</td>\n",
       "      <td>FM</td>\n",
       "      <td>Micronesia (Federated States of)</td>\n",
       "      <td>WPRO</td>\n",
       "      <td>0</td>\n",
       "      <td>0</td>\n",
       "      <td>0</td>\n",
       "      <td>0</td>\n",
       "    </tr>\n",
       "    <tr>\n",
       "      <th>148014</th>\n",
       "      <td>2020-11-07</td>\n",
       "      <td>TO</td>\n",
       "      <td>Tonga</td>\n",
       "      <td>WPRO</td>\n",
       "      <td>0</td>\n",
       "      <td>0</td>\n",
       "      <td>0</td>\n",
       "      <td>0</td>\n",
       "    </tr>\n",
       "    <tr>\n",
       "      <th>120227</th>\n",
       "      <td>2020-01-05</td>\n",
       "      <td>RU</td>\n",
       "      <td>Russian Federation</td>\n",
       "      <td>EURO</td>\n",
       "      <td>0</td>\n",
       "      <td>0</td>\n",
       "      <td>0</td>\n",
       "      <td>0</td>\n",
       "    </tr>\n",
       "    <tr>\n",
       "      <th>107068</th>\n",
       "      <td>2021-08-08</td>\n",
       "      <td>NO</td>\n",
       "      <td>Norway</td>\n",
       "      <td>EURO</td>\n",
       "      <td>477</td>\n",
       "      <td>140734</td>\n",
       "      <td>0</td>\n",
       "      <td>804</td>\n",
       "    </tr>\n",
       "  </tbody>\n",
       "</table>\n",
       "</div>"
      ],
      "text/plain": [
       "       Date_reported Country_code                           Country  \\\n",
       "10568     2020-09-22           BH                           Bahrain   \n",
       "94838     2020-02-04           ME                        Montenegro   \n",
       "91611     2020-08-30           YT                           Mayotte   \n",
       "72478     2020-12-11           JP                             Japan   \n",
       "33592     2021-09-10           CI                     Côte d’Ivoire   \n",
       "54737     2021-04-11           GH                             Ghana   \n",
       "93276     2021-06-17           FM  Micronesia (Federated States of)   \n",
       "148014    2020-11-07           TO                             Tonga   \n",
       "120227    2020-01-05           RU                Russian Federation   \n",
       "107068    2021-08-08           NO                            Norway   \n",
       "\n",
       "       WHO_region  New_cases  Cumulative_cases  New_deaths  Cumulative_deaths  \n",
       "10568        EMRO        713             65752           3                224  \n",
       "94838        EURO          0                 0           0                  0  \n",
       "91611        AFRO          0              3301           0                 40  \n",
       "72478        WPRO       2969            171542          37               2502  \n",
       "33592        AFRO        131             57424           4                492  \n",
       "54737        AFRO        151             91260           2                754  \n",
       "93276        WPRO          0                 0           0                  0  \n",
       "148014       WPRO          0                 0           0                  0  \n",
       "120227       EURO          0                 0           0                  0  \n",
       "107068       EURO        477            140734           0                804  "
      ]
     },
     "execution_count": 269,
     "metadata": {},
     "output_type": "execute_result"
    }
   ],
   "source": [
    "CovidGlobal = pd.read_csv(\"WHO-COVID-19-global-data.csv\",sep=\",\")\n",
    "CovidGlobal.sample(10)"
   ]
  },
  {
   "cell_type": "markdown",
   "id": "0fb1bdae",
   "metadata": {},
   "source": [
    "## Let us see the type of the each column of the dataset"
   ]
  },
  {
   "cell_type": "code",
   "execution_count": 270,
   "id": "a6ff257f",
   "metadata": {},
   "outputs": [
    {
     "data": {
      "text/plain": [
       "Date_reported        object\n",
       "Country_code         object\n",
       "Country              object\n",
       "WHO_region           object\n",
       "New_cases             int64\n",
       "Cumulative_cases      int64\n",
       "New_deaths            int64\n",
       "Cumulative_deaths     int64\n",
       "dtype: object"
      ]
     },
     "execution_count": 270,
     "metadata": {},
     "output_type": "execute_result"
    }
   ],
   "source": [
    "CovidGlobal.dtypes"
   ]
  },
  {
   "cell_type": "markdown",
   "id": "2f8b0f66",
   "metadata": {},
   "source": [
    "## We change the type of the column Date_reported to Date time"
   ]
  },
  {
   "cell_type": "code",
   "execution_count": 271,
   "id": "2c8527f4",
   "metadata": {},
   "outputs": [],
   "source": [
    "CovidGlobal['Date_reported']= pd.to_datetime(CovidGlobal['Date_reported']) "
   ]
  },
  {
   "cell_type": "markdown",
   "id": "a60153fe",
   "metadata": {},
   "source": [
    "## a-) "
   ]
  },
  {
   "cell_type": "markdown",
   "id": "c9f94059",
   "metadata": {},
   "source": [
    "### - First of all we extract the whole data for Angola "
   ]
  },
  {
   "cell_type": "code",
   "execution_count": 272,
   "id": "c1a335a8",
   "metadata": {},
   "outputs": [
    {
     "data": {
      "text/html": [
       "<div>\n",
       "<style scoped>\n",
       "    .dataframe tbody tr th:only-of-type {\n",
       "        vertical-align: middle;\n",
       "    }\n",
       "\n",
       "    .dataframe tbody tr th {\n",
       "        vertical-align: top;\n",
       "    }\n",
       "\n",
       "    .dataframe thead th {\n",
       "        text-align: right;\n",
       "    }\n",
       "</style>\n",
       "<table border=\"1\" class=\"dataframe\">\n",
       "  <thead>\n",
       "    <tr style=\"text-align: right;\">\n",
       "      <th></th>\n",
       "      <th>Date_reported</th>\n",
       "      <th>Country_code</th>\n",
       "      <th>Country</th>\n",
       "      <th>WHO_region</th>\n",
       "      <th>New_cases</th>\n",
       "      <th>Cumulative_cases</th>\n",
       "      <th>New_deaths</th>\n",
       "      <th>Cumulative_deaths</th>\n",
       "    </tr>\n",
       "  </thead>\n",
       "  <tbody>\n",
       "    <tr>\n",
       "      <th>3435</th>\n",
       "      <td>2020-01-03</td>\n",
       "      <td>AO</td>\n",
       "      <td>Angola</td>\n",
       "      <td>AFRO</td>\n",
       "      <td>0</td>\n",
       "      <td>0</td>\n",
       "      <td>0</td>\n",
       "      <td>0</td>\n",
       "    </tr>\n",
       "    <tr>\n",
       "      <th>3436</th>\n",
       "      <td>2020-01-04</td>\n",
       "      <td>AO</td>\n",
       "      <td>Angola</td>\n",
       "      <td>AFRO</td>\n",
       "      <td>0</td>\n",
       "      <td>0</td>\n",
       "      <td>0</td>\n",
       "      <td>0</td>\n",
       "    </tr>\n",
       "    <tr>\n",
       "      <th>3437</th>\n",
       "      <td>2020-01-05</td>\n",
       "      <td>AO</td>\n",
       "      <td>Angola</td>\n",
       "      <td>AFRO</td>\n",
       "      <td>0</td>\n",
       "      <td>0</td>\n",
       "      <td>0</td>\n",
       "      <td>0</td>\n",
       "    </tr>\n",
       "    <tr>\n",
       "      <th>3438</th>\n",
       "      <td>2020-01-06</td>\n",
       "      <td>AO</td>\n",
       "      <td>Angola</td>\n",
       "      <td>AFRO</td>\n",
       "      <td>0</td>\n",
       "      <td>0</td>\n",
       "      <td>0</td>\n",
       "      <td>0</td>\n",
       "    </tr>\n",
       "    <tr>\n",
       "      <th>3439</th>\n",
       "      <td>2020-01-07</td>\n",
       "      <td>AO</td>\n",
       "      <td>Angola</td>\n",
       "      <td>AFRO</td>\n",
       "      <td>0</td>\n",
       "      <td>0</td>\n",
       "      <td>0</td>\n",
       "      <td>0</td>\n",
       "    </tr>\n",
       "    <tr>\n",
       "      <th>...</th>\n",
       "      <td>...</td>\n",
       "      <td>...</td>\n",
       "      <td>...</td>\n",
       "      <td>...</td>\n",
       "      <td>...</td>\n",
       "      <td>...</td>\n",
       "      <td>...</td>\n",
       "      <td>...</td>\n",
       "    </tr>\n",
       "    <tr>\n",
       "      <th>4117</th>\n",
       "      <td>2021-11-15</td>\n",
       "      <td>AO</td>\n",
       "      <td>Angola</td>\n",
       "      <td>AFRO</td>\n",
       "      <td>14</td>\n",
       "      <td>64913</td>\n",
       "      <td>0</td>\n",
       "      <td>1727</td>\n",
       "    </tr>\n",
       "    <tr>\n",
       "      <th>4118</th>\n",
       "      <td>2021-11-16</td>\n",
       "      <td>AO</td>\n",
       "      <td>Angola</td>\n",
       "      <td>AFRO</td>\n",
       "      <td>0</td>\n",
       "      <td>64913</td>\n",
       "      <td>0</td>\n",
       "      <td>1727</td>\n",
       "    </tr>\n",
       "    <tr>\n",
       "      <th>4119</th>\n",
       "      <td>2021-11-17</td>\n",
       "      <td>AO</td>\n",
       "      <td>Angola</td>\n",
       "      <td>AFRO</td>\n",
       "      <td>27</td>\n",
       "      <td>64940</td>\n",
       "      <td>2</td>\n",
       "      <td>1729</td>\n",
       "    </tr>\n",
       "    <tr>\n",
       "      <th>4120</th>\n",
       "      <td>2021-11-18</td>\n",
       "      <td>AO</td>\n",
       "      <td>Angola</td>\n",
       "      <td>AFRO</td>\n",
       "      <td>28</td>\n",
       "      <td>64968</td>\n",
       "      <td>0</td>\n",
       "      <td>1729</td>\n",
       "    </tr>\n",
       "    <tr>\n",
       "      <th>4121</th>\n",
       "      <td>2021-11-19</td>\n",
       "      <td>AO</td>\n",
       "      <td>Angola</td>\n",
       "      <td>AFRO</td>\n",
       "      <td>17</td>\n",
       "      <td>64985</td>\n",
       "      <td>0</td>\n",
       "      <td>1729</td>\n",
       "    </tr>\n",
       "  </tbody>\n",
       "</table>\n",
       "<p>687 rows × 8 columns</p>\n",
       "</div>"
      ],
      "text/plain": [
       "     Date_reported Country_code Country WHO_region  New_cases  \\\n",
       "3435    2020-01-03           AO  Angola       AFRO          0   \n",
       "3436    2020-01-04           AO  Angola       AFRO          0   \n",
       "3437    2020-01-05           AO  Angola       AFRO          0   \n",
       "3438    2020-01-06           AO  Angola       AFRO          0   \n",
       "3439    2020-01-07           AO  Angola       AFRO          0   \n",
       "...            ...          ...     ...        ...        ...   \n",
       "4117    2021-11-15           AO  Angola       AFRO         14   \n",
       "4118    2021-11-16           AO  Angola       AFRO          0   \n",
       "4119    2021-11-17           AO  Angola       AFRO         27   \n",
       "4120    2021-11-18           AO  Angola       AFRO         28   \n",
       "4121    2021-11-19           AO  Angola       AFRO         17   \n",
       "\n",
       "      Cumulative_cases  New_deaths  Cumulative_deaths  \n",
       "3435                 0           0                  0  \n",
       "3436                 0           0                  0  \n",
       "3437                 0           0                  0  \n",
       "3438                 0           0                  0  \n",
       "3439                 0           0                  0  \n",
       "...                ...         ...                ...  \n",
       "4117             64913           0               1727  \n",
       "4118             64913           0               1727  \n",
       "4119             64940           2               1729  \n",
       "4120             64968           0               1729  \n",
       "4121             64985           0               1729  \n",
       "\n",
       "[687 rows x 8 columns]"
      ]
     },
     "execution_count": 272,
     "metadata": {},
     "output_type": "execute_result"
    }
   ],
   "source": [
    "AngolaGlobal = CovidGlobal[CovidGlobal[\"Country\"]=='Angola' ]\n",
    "AngolaGlobal#print 10 random elements"
   ]
  },
  {
   "cell_type": "markdown",
   "id": "352d8817",
   "metadata": {},
   "source": [
    "### - Now we extract the data of 2021"
   ]
  },
  {
   "cell_type": "code",
   "execution_count": 273,
   "id": "edb8f86b",
   "metadata": {},
   "outputs": [],
   "source": [
    "Angola2021 = AngolaGlobal[AngolaGlobal['Date_reported'].dt.year==2021]\n",
    "# Angola2021 = Angola2021.reset_index(drop=True)"
   ]
  },
  {
   "cell_type": "markdown",
   "id": "95c717bc",
   "metadata": {},
   "source": [
    "### - We extract the data of November 2021"
   ]
  },
  {
   "cell_type": "code",
   "execution_count": 274,
   "id": "c9ae5385",
   "metadata": {},
   "outputs": [],
   "source": [
    "AngolaNovember = Angola2021[Angola2021['Date_reported'].dt.month==11]\n",
    "AngolaNovember = AngolaNovember.reset_index(drop=True)"
   ]
  },
  {
   "cell_type": "markdown",
   "id": "4612e9ce",
   "metadata": {},
   "source": [
    "### - The features X is the date (the number of the date) and the response variable y is the Newcases"
   ]
  },
  {
   "cell_type": "code",
   "execution_count": 275,
   "id": "f5e4ee96",
   "metadata": {},
   "outputs": [],
   "source": [
    "X = np.array(AngolaNovember['Date_reported'].index).reshape(-1,1)\n",
    "y = AngolaNovember[['New_cases']].values"
   ]
  },
  {
   "cell_type": "markdown",
   "id": "a6d54bd1",
   "metadata": {},
   "source": [
    "### - We work on 4 differents linear models to see the results of each models"
   ]
  },
  {
   "cell_type": "code",
   "execution_count": 276,
   "id": "c3818d93",
   "metadata": {},
   "outputs": [
    {
     "data": {
      "text/plain": [
       "ElasticNet(alpha=0.3)"
      ]
     },
     "execution_count": 276,
     "metadata": {},
     "output_type": "execute_result"
    }
   ],
   "source": [
    "linmodel1 = LinearRegression()\n",
    "linmodel2 = Ridge(alpha=0.1)\n",
    "linmodel3 = Lasso(alpha=0.2)\n",
    "linmodel4 = ElasticNet(alpha=0.3)\n",
    "linmodel1.fit(X, y) #training the Linear model\n",
    "linmodel2.fit(X, y) #training the Rigde model\n",
    "linmodel3.fit(X, y) #training the Lasso model\n",
    "linmodel4.fit(X, y) #training the ElasticNet model"
   ]
  },
  {
   "cell_type": "markdown",
   "id": "7d5e19d7",
   "metadata": {},
   "source": [
    "### -Now we predict the news cases for 20 and 21 november."
   ]
  },
  {
   "cell_type": "code",
   "execution_count": 277,
   "id": "da67f489",
   "metadata": {},
   "outputs": [
    {
     "name": "stdout",
     "output_type": "stream",
     "text": [
      "Using the Linear_model the number of New_Cases for November 20 2021 is [[17.84210526]] and for November 21 2021 is [[16.41052632]]\n",
      "Using the Lasso model the number of New_Cases for November 20 2021 is [[17.84461636]] and for November 21 2021 is [[16.41328853]]\n",
      "Using the Ridge model the number of New_Cases for November 20 2021 is [17.90877193] and for November 21 2021 is [16.48385965]\n",
      "Using the ElasticNet model the number of New_Cases for November 20 2021 is [17.96307934] and for November 21 2021 is [16.5435978]\n"
     ]
    }
   ],
   "source": [
    "x1 = np.array([[19]])\n",
    "x2 = np.array([[20]])\n",
    "print('Using the Linear_model the number of New_Cases for November 20 2021 is',linmodel1.predict(x1),'and for November 21 2021 is',linmodel1.predict(x2))\n",
    "print('Using the Lasso model the number of New_Cases for November 20 2021 is',linmodel2.predict(x1),'and for November 21 2021 is',linmodel2.predict(x2))\n",
    "print('Using the Ridge model the number of New_Cases for November 20 2021 is',linmodel3.predict(x1),'and for November 21 2021 is',linmodel3.predict(x2))\n",
    "print('Using the ElasticNet model the number of New_Cases for November 20 2021 is',linmodel4.predict(x1),'and for November 21 2021 is',linmodel4.predict(x2))"
   ]
  },
  {
   "cell_type": "markdown",
   "id": "238cff6e",
   "metadata": {},
   "source": [
    "# The error of the models"
   ]
  },
  {
   "cell_type": "code",
   "execution_count": 278,
   "id": "9f4626d8",
   "metadata": {},
   "outputs": [
    {
     "name": "stdout",
     "output_type": "stream",
     "text": [
      "Root Mean Squared Error model1: 20.02414055549325\n",
      "Root Mean Squared Error Lasso: 20.024140602728465\n",
      "Root Mean Squared Error Ridge: 20.024173848613156\n",
      "Root Mean Squared Error ElasticNet: 20.024250183323726\n"
     ]
    }
   ],
   "source": [
    "print('Root Mean Squared Error model1:', np.sqrt(metrics.mean_squared_error(y, linmodel1.predict(X))))\n",
    "print('Root Mean Squared Error Lasso:', np.sqrt(metrics.mean_squared_error(y, linmodel2.predict(X))))\n",
    "print('Root Mean Squared Error Ridge:', np.sqrt(metrics.mean_squared_error(y, linmodel3.predict(X))))\n",
    "print('Root Mean Squared Error ElasticNet:', np.sqrt(metrics.mean_squared_error(y, linmodel4.predict(X))))"
   ]
  },
  {
   "cell_type": "markdown",
   "id": "e952a83a",
   "metadata": {},
   "source": [
    "### The error is large"
   ]
  },
  {
   "cell_type": "markdown",
   "id": "e2743aa3",
   "metadata": {},
   "source": [
    "## Let try the non linear model"
   ]
  },
  {
   "cell_type": "markdown",
   "id": "61a3ba41",
   "metadata": {},
   "source": [
    "# The first one is  RBF (Radial Basis Functions) regression"
   ]
  },
  {
   "cell_type": "code",
   "execution_count": 279,
   "id": "d81d6528",
   "metadata": {},
   "outputs": [],
   "source": [
    "from sklearn.svm import SVR"
   ]
  },
  {
   "cell_type": "code",
   "execution_count": 280,
   "id": "39893fa9",
   "metadata": {},
   "outputs": [
    {
     "data": {
      "image/png": "[encoded data removed]",
      "text/plain": [
       "<Figure size 432x288 with 1 Axes>"
      ]
     },
     "metadata": {
      "needs_background": "light"
     },
     "output_type": "display_data"
    }
   ],
   "source": [
    "# Fit regression model\n",
    "svr_rbf = SVR(kernel=\"rbf\", C=100, gamma=10, epsilon=0.01)\n",
    "svr_rbf.fit(X,y)\n",
    "y_pred = svr_rbf.predict(X)\n",
    "plt.scatter(X, y,  color='gray',label='actual')\n",
    "plt.plot(X,y_pred , color='red',label='predicted')\n",
    "plt.legend()\n",
    "plt.show()"
   ]
  },
  {
   "cell_type": "code",
   "execution_count": 281,
   "id": "dd361aa9",
   "metadata": {},
   "outputs": [
    {
     "name": "stdout",
     "output_type": "stream",
     "text": [
      "Using the RBF the number of New_Cases for November 20 2021 is [32.15986637] and for November 21 2021 is [32.16055422]\n"
     ]
    }
   ],
   "source": [
    "print('Using the RBF the number of New_Cases for November 20 2021 is',svr_rbf.predict(x1),'and for November 21 2021 is',svr_rbf.predict(x2))"
   ]
  },
  {
   "cell_type": "code",
   "execution_count": 282,
   "id": "13524d0b",
   "metadata": {},
   "outputs": [
    {
     "name": "stdout",
     "output_type": "stream",
     "text": [
      "Root Mean Squared Error RBF: 0.010148610202201347\n"
     ]
    }
   ],
   "source": [
    "print('Root Mean Squared Error RBF:', np.sqrt(metrics.mean_squared_error(y, y_pred)))"
   ]
  },
  {
   "cell_type": "markdown",
   "id": "0f8c9f4f",
   "metadata": {},
   "source": [
    "# Now the Decisions tree apply to the whole dataset of 2021"
   ]
  },
  {
   "cell_type": "code",
   "execution_count": 283,
   "id": "7c08dae6",
   "metadata": {},
   "outputs": [
    {
     "data": {
      "image/png": "[encoded data removed]",
      "text/plain": [
       "<Figure size 432x288 with 1 Axes>"
      ]
     },
     "metadata": {
      "needs_background": "light"
     },
     "output_type": "display_data"
    }
   ],
   "source": [
    "Angola2021 = Angola2021.reset_index(drop=True)\n",
    "X2 = np.array(Angola2021['Date_reported'].index).reshape(-1,1)\n",
    "y2 = Angola2021[['New_cases']].values\n",
    "X_train, X_test, y_train, y_test = train_test_split(X2, y2, test_size=0.25, random_state=0)\n",
    "regressortree = DecisionTreeRegressor(random_state=0,max_depth=8)\n",
    "regressortree.fit(X_train, y_train)\n",
    "y_pred2 = regressortree.predict(X_test)\n",
    "plt.scatter(X_test, y_test,  color='gray',label='actual')\n",
    "plt.scatter(X_test,y_pred2 , color='red',label='predicted')\n",
    "plt.legend()\n",
    "plt.show()"
   ]
  },
  {
   "cell_type": "markdown",
   "id": "de8e22d3",
   "metadata": {},
   "source": [
    "### Predictions"
   ]
  },
  {
   "cell_type": "code",
   "execution_count": 284,
   "id": "ed216018",
   "metadata": {},
   "outputs": [
    {
     "name": "stdout",
     "output_type": "stream",
     "text": [
      "Using the Decision tree the number of New_Cases for November 20 2021 is [17.] and for November 21 2021 is [17.]\n"
     ]
    }
   ],
   "source": [
    "x3 = np.array([[323]])\n",
    "x4 = np.array([[324]])\n",
    "print('Using the Decision tree the number of New_Cases for November 20 2021 is',regressortree.predict(x3),'and for November 21 2021 is',regressortree.predict(x4))"
   ]
  },
  {
   "cell_type": "markdown",
   "id": "90a0178d",
   "metadata": {},
   "source": [
    "## Using Random Forest"
   ]
  },
  {
   "cell_type": "code",
   "execution_count": 285,
   "id": "f13e1266",
   "metadata": {},
   "outputs": [
    {
     "data": {
      "image/png": "[encoded data removed]",
      "text/plain": [
       "<Figure size 432x288 with 1 Axes>"
      ]
     },
     "metadata": {
      "needs_background": "light"
     },
     "output_type": "display_data"
    }
   ],
   "source": [
    "regressortree2= RandomForestRegressor(max_features=1,random_state=0)\n",
    "regressortree2.fit(X_train, y_train)\n",
    "y_pred3= regressortree.predict(X_test)\n",
    "plt.scatter(X_test, y_test,  color='gray',label='actual')\n",
    "plt.scatter(X_test,y_pred3, color='red',label='predicted')\n",
    "plt.legend()\n",
    "plt.show()"
   ]
  },
  {
   "cell_type": "markdown",
   "id": "67fcf520",
   "metadata": {},
   "source": [
    "### Predictions"
   ]
  },
  {
   "cell_type": "code",
   "execution_count": 286,
   "id": "d4e11c53",
   "metadata": {},
   "outputs": [
    {
     "name": "stdout",
     "output_type": "stream",
     "text": [
      "Using the Random Forest the number of New_Cases for November 20 2021 is [19.61] and for November 21 2021 is [19.61]\n"
     ]
    }
   ],
   "source": [
    "print('Using the Random Forest the number of New_Cases for November 20 2021 is',regressortree2.predict(x3),'and for November 21 2021 is',regressortree2.predict(x4))"
   ]
  },
  {
   "cell_type": "markdown",
   "id": "63e27def",
   "metadata": {},
   "source": [
    "## (b)"
   ]
  },
  {
   "cell_type": "markdown",
   "id": "c167bf75",
   "metadata": {},
   "source": [
    "## -We extract the data for the whole Africa and we extract the data for november"
   ]
  },
  {
   "cell_type": "code",
   "execution_count": 287,
   "id": "e76178f3",
   "metadata": {},
   "outputs": [],
   "source": [
    "AfricaGlobal = CovidGlobal[CovidGlobal[\"WHO_region\"]=='AFRO' ]\n",
    "AfricaGlobal['Date_reported']= pd.to_datetime(AfricaGlobal['Date_reported']) #change the type of the column date\n",
    "Africa2021 = AfricaGlobal[AfricaGlobal['Date_reported'].dt.year==2021]\n",
    "Africanovember = Africa2021[Africa2021['Date_reported'].dt.month==11]"
   ]
  },
  {
   "cell_type": "markdown",
   "id": "6e1bf24f",
   "metadata": {},
   "source": [
    "### Now we have to compute the average number of New_deaths\n",
    "To do that we first reorganize the dataset in term of groupy date and we extract the column representing the average number of New_deaths and the features. "
   ]
  },
  {
   "cell_type": "code",
   "execution_count": 288,
   "id": "c690872b",
   "metadata": {},
   "outputs": [
    {
     "data": {
      "text/plain": [
       "ElasticNet(alpha=0.3)"
      ]
     },
     "execution_count": 288,
     "metadata": {},
     "output_type": "execute_result"
    }
   ],
   "source": [
    "Average = Africanovember.groupby(['Date_reported']).mean()\n",
    "Average = Average.reset_index(drop=True)\n",
    "X3 = np.array(Average.index).reshape(-1,1)\n",
    "y3 = Average[['New_deaths']].values\n",
    "linmodel1.fit(X3, y3) #training the Linear model\n",
    "linmodel2.fit(X3, y3) #training the Rigde model\n",
    "linmodel3.fit(X3, y3) #training the Lasso model\n",
    "linmodel4.fit(X3, y3) #training the ElasticNet model"
   ]
  },
  {
   "cell_type": "code",
   "execution_count": 289,
   "id": "c56a3f01",
   "metadata": {},
   "outputs": [
    {
     "name": "stdout",
     "output_type": "stream",
     "text": [
      "Using the Linear_model the number of New_deaths for November 20 2021 is [[1.40982456]] and for November 21 2021 is [[1.40105263]]\n",
      "Using the Lasso model the number of New_deaths for November 20 2021 is [[1.40983687]] and for November 21 2021 is [[1.40106648]]\n",
      "Using the Ridge model the number of New_deaths for November 20 2021 is [1.46315789] and for November 21 2021 is [1.46105263]\n",
      "Using the ElasticNet model the number of New_deaths for November 20 2021 is [1.44997469] and for November 21 2021 is [1.44622152]\n"
     ]
    }
   ],
   "source": [
    "x1 = np.array([[17]])\n",
    "x2 = np.array([[18]])\n",
    "print('Using the Linear_model the number of New_deaths for November 20 2021 is',linmodel1.predict(x1),'and for November 21 2021 is',linmodel1.predict(x2))\n",
    "print('Using the Lasso model the number of New_deaths for November 20 2021 is',linmodel2.predict(x1),'and for November 21 2021 is',linmodel2.predict(x2))\n",
    "print('Using the Ridge model the number of New_deaths for November 20 2021 is',linmodel3.predict(x1),'and for November 21 2021 is',linmodel3.predict(x2))\n",
    "print('Using the ElasticNet model the number of New_deaths for November 20 2021 is',linmodel4.predict(x1),'and for November 21 2021 is',linmodel4.predict(x2))"
   ]
  },
  {
   "cell_type": "markdown",
   "id": "31a54426",
   "metadata": {},
   "source": [
    "# Error"
   ]
  },
  {
   "cell_type": "code",
   "execution_count": 290,
   "id": "d76caeaa",
   "metadata": {},
   "outputs": [
    {
     "name": "stdout",
     "output_type": "stream",
     "text": [
      "Root Mean Squared Error model1: 0.46199455173804993\n",
      "Root Mean Squared Error Lasso: 0.46199455181491744\n",
      "Root Mean Squared Error Ridge: 0.4634353236094278\n",
      "Root Mean Squared Error ElasticNet: 0.46281163138617054\n"
     ]
    }
   ],
   "source": [
    "print('Root Mean Squared Error model1:', np.sqrt(metrics.mean_squared_error(y3, linmodel1.predict(X3))))\n",
    "print('Root Mean Squared Error Lasso:', np.sqrt(metrics.mean_squared_error(y3, linmodel2.predict(X3))))\n",
    "print('Root Mean Squared Error Ridge:', np.sqrt(metrics.mean_squared_error(y3, linmodel3.predict(X3))))\n",
    "print('Root Mean Squared Error ElasticNet:', np.sqrt(metrics.mean_squared_error(y3, linmodel4.predict(X3))))"
   ]
  },
  {
   "cell_type": "markdown",
   "id": "c3990c3e",
   "metadata": {},
   "source": [
    "# Now we use random Forest to see the result"
   ]
  },
  {
   "cell_type": "code",
   "execution_count": 291,
   "id": "e82e4cb4",
   "metadata": {},
   "outputs": [
    {
     "data": {
      "image/png": "[encoded data removed]",
      "text/plain": [
       "<Figure size 432x288 with 1 Axes>"
      ]
     },
     "metadata": {
      "needs_background": "light"
     },
     "output_type": "display_data"
    }
   ],
   "source": [
    "regressortree3= RandomForestRegressor(max_features=1,random_state=0)\n",
    "regressortree3.fit(X3, y3)\n",
    "y_pred4= regressortree3.predict(X3)\n",
    "plt.scatter(X3, y3,  color='gray',label='actual')\n",
    "plt.scatter(X3,y_pred4, color='red',label='predicted')\n",
    "plt.legend()\n",
    "plt.show()"
   ]
  },
  {
   "cell_type": "markdown",
   "id": "69d620ff",
   "metadata": {},
   "source": [
    "### Predictions"
   ]
  },
  {
   "cell_type": "code",
   "execution_count": 292,
   "id": "82bf6c84",
   "metadata": {},
   "outputs": [
    {
     "name": "stdout",
     "output_type": "stream",
     "text": [
      "Using the Random Forest the number of New_deaths for November 20 2021 is [1.1636] and for November 21 2021 is [1.5548]\n"
     ]
    }
   ],
   "source": [
    "print('Using the Random Forest the number of New_deaths for November 20 2021 is',regressortree3.predict(x1),'and for November 21 2021 is',regressortree3.predict(x2))"
   ]
  },
  {
   "cell_type": "markdown",
   "id": "b5a1e03f",
   "metadata": {},
   "source": [
    "### The error"
   ]
  },
  {
   "cell_type": "code",
   "execution_count": 294,
   "id": "1fac90a7",
   "metadata": {},
   "outputs": [
    {
     "name": "stdout",
     "output_type": "stream",
     "text": [
      "Root Mean Squared Error Random Forest: 0.1960855774507919\n"
     ]
    }
   ],
   "source": [
    "print('Root Mean Squared Error Random Forest:', np.sqrt(metrics.mean_squared_error(y3, regressortree3.predict(X3))))"
   ]
  },
  {
   "cell_type": "markdown",
   "id": "2b9b887b",
   "metadata": {},
   "source": [
    "### The error is more smaller"
   ]
  },
  {
   "cell_type": "markdown",
   "id": "730290cd",
   "metadata": {},
   "source": [
    "# II-"
   ]
  },
  {
   "cell_type": "markdown",
   "id": "f22dab12",
   "metadata": {},
   "source": [
    "## (a)"
   ]
  },
  {
   "cell_type": "markdown",
   "id": "e54abc14",
   "metadata": {},
   "source": [
    "## We upload the dataset SAHeart.data and we print some random elements of the dataset"
   ]
  },
  {
   "cell_type": "code",
   "execution_count": 295,
   "id": "681d655f",
   "metadata": {},
   "outputs": [
    {
     "data": {
      "text/html": [
       "<div>\n",
       "<style scoped>\n",
       "    .dataframe tbody tr th:only-of-type {\n",
       "        vertical-align: middle;\n",
       "    }\n",
       "\n",
       "    .dataframe tbody tr th {\n",
       "        vertical-align: top;\n",
       "    }\n",
       "\n",
       "    .dataframe thead th {\n",
       "        text-align: right;\n",
       "    }\n",
       "</style>\n",
       "<table border=\"1\" class=\"dataframe\">\n",
       "  <thead>\n",
       "    <tr style=\"text-align: right;\">\n",
       "      <th></th>\n",
       "      <th>sbp</th>\n",
       "      <th>tobacco</th>\n",
       "      <th>ldl</th>\n",
       "      <th>adiposity</th>\n",
       "      <th>famhist</th>\n",
       "      <th>typea</th>\n",
       "      <th>obesity</th>\n",
       "      <th>alcohol</th>\n",
       "      <th>age</th>\n",
       "      <th>chd</th>\n",
       "    </tr>\n",
       "    <tr>\n",
       "      <th>row.names</th>\n",
       "      <th></th>\n",
       "      <th></th>\n",
       "      <th></th>\n",
       "      <th></th>\n",
       "      <th></th>\n",
       "      <th></th>\n",
       "      <th></th>\n",
       "      <th></th>\n",
       "      <th></th>\n",
       "      <th></th>\n",
       "    </tr>\n",
       "  </thead>\n",
       "  <tbody>\n",
       "    <tr>\n",
       "      <th>1</th>\n",
       "      <td>160</td>\n",
       "      <td>12.00</td>\n",
       "      <td>5.73</td>\n",
       "      <td>23.11</td>\n",
       "      <td>Present</td>\n",
       "      <td>49</td>\n",
       "      <td>25.30</td>\n",
       "      <td>97.20</td>\n",
       "      <td>52</td>\n",
       "      <td>1</td>\n",
       "    </tr>\n",
       "    <tr>\n",
       "      <th>2</th>\n",
       "      <td>144</td>\n",
       "      <td>0.01</td>\n",
       "      <td>4.41</td>\n",
       "      <td>28.61</td>\n",
       "      <td>Absent</td>\n",
       "      <td>55</td>\n",
       "      <td>28.87</td>\n",
       "      <td>2.06</td>\n",
       "      <td>63</td>\n",
       "      <td>1</td>\n",
       "    </tr>\n",
       "    <tr>\n",
       "      <th>3</th>\n",
       "      <td>118</td>\n",
       "      <td>0.08</td>\n",
       "      <td>3.48</td>\n",
       "      <td>32.28</td>\n",
       "      <td>Present</td>\n",
       "      <td>52</td>\n",
       "      <td>29.14</td>\n",
       "      <td>3.81</td>\n",
       "      <td>46</td>\n",
       "      <td>0</td>\n",
       "    </tr>\n",
       "    <tr>\n",
       "      <th>4</th>\n",
       "      <td>170</td>\n",
       "      <td>7.50</td>\n",
       "      <td>6.41</td>\n",
       "      <td>38.03</td>\n",
       "      <td>Present</td>\n",
       "      <td>51</td>\n",
       "      <td>31.99</td>\n",
       "      <td>24.26</td>\n",
       "      <td>58</td>\n",
       "      <td>1</td>\n",
       "    </tr>\n",
       "    <tr>\n",
       "      <th>5</th>\n",
       "      <td>134</td>\n",
       "      <td>13.60</td>\n",
       "      <td>3.50</td>\n",
       "      <td>27.78</td>\n",
       "      <td>Present</td>\n",
       "      <td>60</td>\n",
       "      <td>25.99</td>\n",
       "      <td>57.34</td>\n",
       "      <td>49</td>\n",
       "      <td>1</td>\n",
       "    </tr>\n",
       "    <tr>\n",
       "      <th>...</th>\n",
       "      <td>...</td>\n",
       "      <td>...</td>\n",
       "      <td>...</td>\n",
       "      <td>...</td>\n",
       "      <td>...</td>\n",
       "      <td>...</td>\n",
       "      <td>...</td>\n",
       "      <td>...</td>\n",
       "      <td>...</td>\n",
       "      <td>...</td>\n",
       "    </tr>\n",
       "    <tr>\n",
       "      <th>459</th>\n",
       "      <td>214</td>\n",
       "      <td>0.40</td>\n",
       "      <td>5.98</td>\n",
       "      <td>31.72</td>\n",
       "      <td>Absent</td>\n",
       "      <td>64</td>\n",
       "      <td>28.45</td>\n",
       "      <td>0.00</td>\n",
       "      <td>58</td>\n",
       "      <td>0</td>\n",
       "    </tr>\n",
       "    <tr>\n",
       "      <th>460</th>\n",
       "      <td>182</td>\n",
       "      <td>4.20</td>\n",
       "      <td>4.41</td>\n",
       "      <td>32.10</td>\n",
       "      <td>Absent</td>\n",
       "      <td>52</td>\n",
       "      <td>28.61</td>\n",
       "      <td>18.72</td>\n",
       "      <td>52</td>\n",
       "      <td>1</td>\n",
       "    </tr>\n",
       "    <tr>\n",
       "      <th>461</th>\n",
       "      <td>108</td>\n",
       "      <td>3.00</td>\n",
       "      <td>1.59</td>\n",
       "      <td>15.23</td>\n",
       "      <td>Absent</td>\n",
       "      <td>40</td>\n",
       "      <td>20.09</td>\n",
       "      <td>26.64</td>\n",
       "      <td>55</td>\n",
       "      <td>0</td>\n",
       "    </tr>\n",
       "    <tr>\n",
       "      <th>462</th>\n",
       "      <td>118</td>\n",
       "      <td>5.40</td>\n",
       "      <td>11.61</td>\n",
       "      <td>30.79</td>\n",
       "      <td>Absent</td>\n",
       "      <td>64</td>\n",
       "      <td>27.35</td>\n",
       "      <td>23.97</td>\n",
       "      <td>40</td>\n",
       "      <td>0</td>\n",
       "    </tr>\n",
       "    <tr>\n",
       "      <th>463</th>\n",
       "      <td>132</td>\n",
       "      <td>0.00</td>\n",
       "      <td>4.82</td>\n",
       "      <td>33.41</td>\n",
       "      <td>Present</td>\n",
       "      <td>62</td>\n",
       "      <td>14.70</td>\n",
       "      <td>0.00</td>\n",
       "      <td>46</td>\n",
       "      <td>1</td>\n",
       "    </tr>\n",
       "  </tbody>\n",
       "</table>\n",
       "<p>462 rows × 10 columns</p>\n",
       "</div>"
      ],
      "text/plain": [
       "           sbp  tobacco    ldl  adiposity  famhist  typea  obesity  alcohol  \\\n",
       "row.names                                                                     \n",
       "1          160    12.00   5.73      23.11  Present     49    25.30    97.20   \n",
       "2          144     0.01   4.41      28.61   Absent     55    28.87     2.06   \n",
       "3          118     0.08   3.48      32.28  Present     52    29.14     3.81   \n",
       "4          170     7.50   6.41      38.03  Present     51    31.99    24.26   \n",
       "5          134    13.60   3.50      27.78  Present     60    25.99    57.34   \n",
       "...        ...      ...    ...        ...      ...    ...      ...      ...   \n",
       "459        214     0.40   5.98      31.72   Absent     64    28.45     0.00   \n",
       "460        182     4.20   4.41      32.10   Absent     52    28.61    18.72   \n",
       "461        108     3.00   1.59      15.23   Absent     40    20.09    26.64   \n",
       "462        118     5.40  11.61      30.79   Absent     64    27.35    23.97   \n",
       "463        132     0.00   4.82      33.41  Present     62    14.70     0.00   \n",
       "\n",
       "           age  chd  \n",
       "row.names            \n",
       "1           52    1  \n",
       "2           63    1  \n",
       "3           46    0  \n",
       "4           58    1  \n",
       "5           49    1  \n",
       "...        ...  ...  \n",
       "459         58    0  \n",
       "460         52    1  \n",
       "461         55    0  \n",
       "462         40    0  \n",
       "463         46    1  \n",
       "\n",
       "[462 rows x 10 columns]"
      ]
     },
     "execution_count": 295,
     "metadata": {},
     "output_type": "execute_result"
    }
   ],
   "source": [
    "SAHeart = pd.read_csv(\"SAHeart.data\",sep = ',', index_col = 'row.names')\n",
    "SAHeart"
   ]
  },
  {
   "cell_type": "markdown",
   "id": "56d9a787",
   "metadata": {},
   "source": [
    "### We replace in the column \"famhist\" Absent by 0 and present by 1.\n",
    "We use the function Series from pandas and the function eq"
   ]
  },
  {
   "cell_type": "code",
   "execution_count": 296,
   "id": "b835ed8a",
   "metadata": {},
   "outputs": [
    {
     "data": {
      "text/html": [
       "<div>\n",
       "<style scoped>\n",
       "    .dataframe tbody tr th:only-of-type {\n",
       "        vertical-align: middle;\n",
       "    }\n",
       "\n",
       "    .dataframe tbody tr th {\n",
       "        vertical-align: top;\n",
       "    }\n",
       "\n",
       "    .dataframe thead th {\n",
       "        text-align: right;\n",
       "    }\n",
       "</style>\n",
       "<table border=\"1\" class=\"dataframe\">\n",
       "  <thead>\n",
       "    <tr style=\"text-align: right;\">\n",
       "      <th></th>\n",
       "      <th>sbp</th>\n",
       "      <th>tobacco</th>\n",
       "      <th>ldl</th>\n",
       "      <th>adiposity</th>\n",
       "      <th>famhist</th>\n",
       "      <th>typea</th>\n",
       "      <th>obesity</th>\n",
       "      <th>alcohol</th>\n",
       "      <th>age</th>\n",
       "      <th>chd</th>\n",
       "    </tr>\n",
       "    <tr>\n",
       "      <th>row.names</th>\n",
       "      <th></th>\n",
       "      <th></th>\n",
       "      <th></th>\n",
       "      <th></th>\n",
       "      <th></th>\n",
       "      <th></th>\n",
       "      <th></th>\n",
       "      <th></th>\n",
       "      <th></th>\n",
       "      <th></th>\n",
       "    </tr>\n",
       "  </thead>\n",
       "  <tbody>\n",
       "    <tr>\n",
       "      <th>1</th>\n",
       "      <td>160</td>\n",
       "      <td>12.00</td>\n",
       "      <td>5.73</td>\n",
       "      <td>23.11</td>\n",
       "      <td>1</td>\n",
       "      <td>49</td>\n",
       "      <td>25.30</td>\n",
       "      <td>97.20</td>\n",
       "      <td>52</td>\n",
       "      <td>1</td>\n",
       "    </tr>\n",
       "    <tr>\n",
       "      <th>2</th>\n",
       "      <td>144</td>\n",
       "      <td>0.01</td>\n",
       "      <td>4.41</td>\n",
       "      <td>28.61</td>\n",
       "      <td>0</td>\n",
       "      <td>55</td>\n",
       "      <td>28.87</td>\n",
       "      <td>2.06</td>\n",
       "      <td>63</td>\n",
       "      <td>1</td>\n",
       "    </tr>\n",
       "    <tr>\n",
       "      <th>3</th>\n",
       "      <td>118</td>\n",
       "      <td>0.08</td>\n",
       "      <td>3.48</td>\n",
       "      <td>32.28</td>\n",
       "      <td>1</td>\n",
       "      <td>52</td>\n",
       "      <td>29.14</td>\n",
       "      <td>3.81</td>\n",
       "      <td>46</td>\n",
       "      <td>0</td>\n",
       "    </tr>\n",
       "    <tr>\n",
       "      <th>4</th>\n",
       "      <td>170</td>\n",
       "      <td>7.50</td>\n",
       "      <td>6.41</td>\n",
       "      <td>38.03</td>\n",
       "      <td>1</td>\n",
       "      <td>51</td>\n",
       "      <td>31.99</td>\n",
       "      <td>24.26</td>\n",
       "      <td>58</td>\n",
       "      <td>1</td>\n",
       "    </tr>\n",
       "    <tr>\n",
       "      <th>5</th>\n",
       "      <td>134</td>\n",
       "      <td>13.60</td>\n",
       "      <td>3.50</td>\n",
       "      <td>27.78</td>\n",
       "      <td>1</td>\n",
       "      <td>60</td>\n",
       "      <td>25.99</td>\n",
       "      <td>57.34</td>\n",
       "      <td>49</td>\n",
       "      <td>1</td>\n",
       "    </tr>\n",
       "    <tr>\n",
       "      <th>...</th>\n",
       "      <td>...</td>\n",
       "      <td>...</td>\n",
       "      <td>...</td>\n",
       "      <td>...</td>\n",
       "      <td>...</td>\n",
       "      <td>...</td>\n",
       "      <td>...</td>\n",
       "      <td>...</td>\n",
       "      <td>...</td>\n",
       "      <td>...</td>\n",
       "    </tr>\n",
       "    <tr>\n",
       "      <th>459</th>\n",
       "      <td>214</td>\n",
       "      <td>0.40</td>\n",
       "      <td>5.98</td>\n",
       "      <td>31.72</td>\n",
       "      <td>0</td>\n",
       "      <td>64</td>\n",
       "      <td>28.45</td>\n",
       "      <td>0.00</td>\n",
       "      <td>58</td>\n",
       "      <td>0</td>\n",
       "    </tr>\n",
       "    <tr>\n",
       "      <th>460</th>\n",
       "      <td>182</td>\n",
       "      <td>4.20</td>\n",
       "      <td>4.41</td>\n",
       "      <td>32.10</td>\n",
       "      <td>0</td>\n",
       "      <td>52</td>\n",
       "      <td>28.61</td>\n",
       "      <td>18.72</td>\n",
       "      <td>52</td>\n",
       "      <td>1</td>\n",
       "    </tr>\n",
       "    <tr>\n",
       "      <th>461</th>\n",
       "      <td>108</td>\n",
       "      <td>3.00</td>\n",
       "      <td>1.59</td>\n",
       "      <td>15.23</td>\n",
       "      <td>0</td>\n",
       "      <td>40</td>\n",
       "      <td>20.09</td>\n",
       "      <td>26.64</td>\n",
       "      <td>55</td>\n",
       "      <td>0</td>\n",
       "    </tr>\n",
       "    <tr>\n",
       "      <th>462</th>\n",
       "      <td>118</td>\n",
       "      <td>5.40</td>\n",
       "      <td>11.61</td>\n",
       "      <td>30.79</td>\n",
       "      <td>0</td>\n",
       "      <td>64</td>\n",
       "      <td>27.35</td>\n",
       "      <td>23.97</td>\n",
       "      <td>40</td>\n",
       "      <td>0</td>\n",
       "    </tr>\n",
       "    <tr>\n",
       "      <th>463</th>\n",
       "      <td>132</td>\n",
       "      <td>0.00</td>\n",
       "      <td>4.82</td>\n",
       "      <td>33.41</td>\n",
       "      <td>1</td>\n",
       "      <td>62</td>\n",
       "      <td>14.70</td>\n",
       "      <td>0.00</td>\n",
       "      <td>46</td>\n",
       "      <td>1</td>\n",
       "    </tr>\n",
       "  </tbody>\n",
       "</table>\n",
       "<p>462 rows × 10 columns</p>\n",
       "</div>"
      ],
      "text/plain": [
       "           sbp  tobacco    ldl  adiposity  famhist  typea  obesity  alcohol  \\\n",
       "row.names                                                                     \n",
       "1          160    12.00   5.73      23.11        1     49    25.30    97.20   \n",
       "2          144     0.01   4.41      28.61        0     55    28.87     2.06   \n",
       "3          118     0.08   3.48      32.28        1     52    29.14     3.81   \n",
       "4          170     7.50   6.41      38.03        1     51    31.99    24.26   \n",
       "5          134    13.60   3.50      27.78        1     60    25.99    57.34   \n",
       "...        ...      ...    ...        ...      ...    ...      ...      ...   \n",
       "459        214     0.40   5.98      31.72        0     64    28.45     0.00   \n",
       "460        182     4.20   4.41      32.10        0     52    28.61    18.72   \n",
       "461        108     3.00   1.59      15.23        0     40    20.09    26.64   \n",
       "462        118     5.40  11.61      30.79        0     64    27.35    23.97   \n",
       "463        132     0.00   4.82      33.41        1     62    14.70     0.00   \n",
       "\n",
       "           age  chd  \n",
       "row.names            \n",
       "1           52    1  \n",
       "2           63    1  \n",
       "3           46    0  \n",
       "4           58    1  \n",
       "5           49    1  \n",
       "...        ...  ...  \n",
       "459         58    0  \n",
       "460         52    1  \n",
       "461         55    0  \n",
       "462         40    0  \n",
       "463         46    1  \n",
       "\n",
       "[462 rows x 10 columns]"
      ]
     },
     "execution_count": 296,
     "metadata": {},
     "output_type": "execute_result"
    }
   ],
   "source": [
    "code = pd.Series(np.zeros(SAHeart.shape[0]))\n",
    "codebis = SAHeart['famhist'].eq('Present').astype('int')\n",
    "SAHeart['famhist'] = codebis\n",
    "SAHeart"
   ]
  },
  {
   "cell_type": "markdown",
   "id": "00690772",
   "metadata": {},
   "source": [
    "## (b) Logistic regressor"
   ]
  },
  {
   "cell_type": "markdown",
   "id": "3f85bc12",
   "metadata": {},
   "source": [
    "### Initialisation of the features and response variable"
   ]
  },
  {
   "cell_type": "code",
   "execution_count": 297,
   "id": "b2039754",
   "metadata": {},
   "outputs": [],
   "source": [
    "Xr = SAHeart[[\"sbp\",\"tobacco\",\"ldl\",\"adiposity\",\"famhist\",\"typea\",\"obesity\",\"alcohol\",\"age\"]].values\n",
    "yr = SAHeart[[\"chd\"]].values\n",
    "X_train, X_test, y_train, y_test = train_test_split(Xr, yr, test_size = 0.25, random_state = 0)"
   ]
  },
  {
   "cell_type": "markdown",
   "id": "a708ee86",
   "metadata": {},
   "source": [
    "### Initialisation of the regressor and training"
   ]
  },
  {
   "cell_type": "code",
   "execution_count": 298,
   "id": "829f74c9",
   "metadata": {},
   "outputs": [],
   "source": [
    "Logregressor = LogisticRegression(random_state = 0, solver='lbfgs', multi_class='auto')\n",
    "Logregressor.fit(X_train, y_train)\n",
    "y_pred = Logregressor.predict(X_test)"
   ]
  },
  {
   "cell_type": "markdown",
   "id": "16b947ce",
   "metadata": {},
   "source": [
    "### accuracy"
   ]
  },
  {
   "cell_type": "code",
   "execution_count": 299,
   "id": "93601fd4",
   "metadata": {},
   "outputs": [
    {
     "name": "stdout",
     "output_type": "stream",
     "text": [
      "The accuracy is: 0.7241379310344828\n"
     ]
    }
   ],
   "source": [
    "print(\"The accuracy is:\",accuracy_score(y_test, y_pred))"
   ]
  },
  {
   "cell_type": "markdown",
   "id": "442ebb63",
   "metadata": {},
   "source": [
    "## (c) Prediction. if the patient x = [133, 3.3, 4.6, 34.5, present, 52, 30, 32, 20] is of high risk or not."
   ]
  },
  {
   "cell_type": "code",
   "execution_count": 300,
   "id": "8659fdab",
   "metadata": {},
   "outputs": [
    {
     "name": "stdout",
     "output_type": "stream",
     "text": [
      "The patient doest not have a risk\n"
     ]
    }
   ],
   "source": [
    "xr = np.array([[133, 3.3, 4.6, 34.5, 1, 52, 30, 32, 20]])\n",
    "Val = Logregressor.predict(xr)\n",
    "if Val == 0:\n",
    "    print(\"The patient doest not have a risk\")\n",
    "else:\n",
    "    print(\"The patient has a risk\")"
   ]
  },
  {
   "cell_type": "markdown",
   "id": "0eb49064",
   "metadata": {},
   "source": [
    "## (D) the most determinant factors for heart disease"
   ]
  },
  {
   "cell_type": "markdown",
   "id": "fa0e2ab7",
   "metadata": {},
   "source": [
    "We use the corvariance matrix "
   ]
  },
  {
   "cell_type": "code",
   "execution_count": 301,
   "id": "ee82e03a",
   "metadata": {},
   "outputs": [
    {
     "data": {
      "text/html": [
       "<div>\n",
       "<style scoped>\n",
       "    .dataframe tbody tr th:only-of-type {\n",
       "        vertical-align: middle;\n",
       "    }\n",
       "\n",
       "    .dataframe tbody tr th {\n",
       "        vertical-align: top;\n",
       "    }\n",
       "\n",
       "    .dataframe thead th {\n",
       "        text-align: right;\n",
       "    }\n",
       "</style>\n",
       "<table border=\"1\" class=\"dataframe\">\n",
       "  <thead>\n",
       "    <tr style=\"text-align: right;\">\n",
       "      <th></th>\n",
       "      <th>sbp</th>\n",
       "      <th>tobacco</th>\n",
       "      <th>ldl</th>\n",
       "      <th>adiposity</th>\n",
       "      <th>famhist</th>\n",
       "      <th>typea</th>\n",
       "      <th>obesity</th>\n",
       "      <th>alcohol</th>\n",
       "      <th>age</th>\n",
       "      <th>chd</th>\n",
       "    </tr>\n",
       "  </thead>\n",
       "  <tbody>\n",
       "    <tr>\n",
       "      <th>sbp</th>\n",
       "      <td>1.000000</td>\n",
       "      <td>0.212247</td>\n",
       "      <td>0.158296</td>\n",
       "      <td>0.356500</td>\n",
       "      <td>0.085645</td>\n",
       "      <td>-0.057454</td>\n",
       "      <td>0.238067</td>\n",
       "      <td>0.140096</td>\n",
       "      <td>0.388771</td>\n",
       "      <td>0.192354</td>\n",
       "    </tr>\n",
       "    <tr>\n",
       "      <th>tobacco</th>\n",
       "      <td>0.212247</td>\n",
       "      <td>1.000000</td>\n",
       "      <td>0.158905</td>\n",
       "      <td>0.286640</td>\n",
       "      <td>0.088601</td>\n",
       "      <td>-0.014608</td>\n",
       "      <td>0.124529</td>\n",
       "      <td>0.200813</td>\n",
       "      <td>0.450330</td>\n",
       "      <td>0.299718</td>\n",
       "    </tr>\n",
       "    <tr>\n",
       "      <th>ldl</th>\n",
       "      <td>0.158296</td>\n",
       "      <td>0.158905</td>\n",
       "      <td>1.000000</td>\n",
       "      <td>0.440432</td>\n",
       "      <td>0.161353</td>\n",
       "      <td>0.044048</td>\n",
       "      <td>0.330506</td>\n",
       "      <td>-0.033403</td>\n",
       "      <td>0.311799</td>\n",
       "      <td>0.263053</td>\n",
       "    </tr>\n",
       "    <tr>\n",
       "      <th>adiposity</th>\n",
       "      <td>0.356500</td>\n",
       "      <td>0.286640</td>\n",
       "      <td>0.440432</td>\n",
       "      <td>1.000000</td>\n",
       "      <td>0.181721</td>\n",
       "      <td>-0.043144</td>\n",
       "      <td>0.716556</td>\n",
       "      <td>0.100330</td>\n",
       "      <td>0.625954</td>\n",
       "      <td>0.254121</td>\n",
       "    </tr>\n",
       "    <tr>\n",
       "      <th>famhist</th>\n",
       "      <td>0.085645</td>\n",
       "      <td>0.088601</td>\n",
       "      <td>0.161353</td>\n",
       "      <td>0.181721</td>\n",
       "      <td>1.000000</td>\n",
       "      <td>0.044809</td>\n",
       "      <td>0.115595</td>\n",
       "      <td>0.080520</td>\n",
       "      <td>0.239667</td>\n",
       "      <td>0.272373</td>\n",
       "    </tr>\n",
       "    <tr>\n",
       "      <th>typea</th>\n",
       "      <td>-0.057454</td>\n",
       "      <td>-0.014608</td>\n",
       "      <td>0.044048</td>\n",
       "      <td>-0.043144</td>\n",
       "      <td>0.044809</td>\n",
       "      <td>1.000000</td>\n",
       "      <td>0.074006</td>\n",
       "      <td>0.039498</td>\n",
       "      <td>-0.102606</td>\n",
       "      <td>0.103156</td>\n",
       "    </tr>\n",
       "    <tr>\n",
       "      <th>obesity</th>\n",
       "      <td>0.238067</td>\n",
       "      <td>0.124529</td>\n",
       "      <td>0.330506</td>\n",
       "      <td>0.716556</td>\n",
       "      <td>0.115595</td>\n",
       "      <td>0.074006</td>\n",
       "      <td>1.000000</td>\n",
       "      <td>0.051620</td>\n",
       "      <td>0.291777</td>\n",
       "      <td>0.100095</td>\n",
       "    </tr>\n",
       "    <tr>\n",
       "      <th>alcohol</th>\n",
       "      <td>0.140096</td>\n",
       "      <td>0.200813</td>\n",
       "      <td>-0.033403</td>\n",
       "      <td>0.100330</td>\n",
       "      <td>0.080520</td>\n",
       "      <td>0.039498</td>\n",
       "      <td>0.051620</td>\n",
       "      <td>1.000000</td>\n",
       "      <td>0.101125</td>\n",
       "      <td>0.062531</td>\n",
       "    </tr>\n",
       "    <tr>\n",
       "      <th>age</th>\n",
       "      <td>0.388771</td>\n",
       "      <td>0.450330</td>\n",
       "      <td>0.311799</td>\n",
       "      <td>0.625954</td>\n",
       "      <td>0.239667</td>\n",
       "      <td>-0.102606</td>\n",
       "      <td>0.291777</td>\n",
       "      <td>0.101125</td>\n",
       "      <td>1.000000</td>\n",
       "      <td>0.372973</td>\n",
       "    </tr>\n",
       "    <tr>\n",
       "      <th>chd</th>\n",
       "      <td>0.192354</td>\n",
       "      <td>0.299718</td>\n",
       "      <td>0.263053</td>\n",
       "      <td>0.254121</td>\n",
       "      <td>0.272373</td>\n",
       "      <td>0.103156</td>\n",
       "      <td>0.100095</td>\n",
       "      <td>0.062531</td>\n",
       "      <td>0.372973</td>\n",
       "      <td>1.000000</td>\n",
       "    </tr>\n",
       "  </tbody>\n",
       "</table>\n",
       "</div>"
      ],
      "text/plain": [
       "                sbp   tobacco       ldl  adiposity   famhist     typea  \\\n",
       "sbp        1.000000  0.212247  0.158296   0.356500  0.085645 -0.057454   \n",
       "tobacco    0.212247  1.000000  0.158905   0.286640  0.088601 -0.014608   \n",
       "ldl        0.158296  0.158905  1.000000   0.440432  0.161353  0.044048   \n",
       "adiposity  0.356500  0.286640  0.440432   1.000000  0.181721 -0.043144   \n",
       "famhist    0.085645  0.088601  0.161353   0.181721  1.000000  0.044809   \n",
       "typea     -0.057454 -0.014608  0.044048  -0.043144  0.044809  1.000000   \n",
       "obesity    0.238067  0.124529  0.330506   0.716556  0.115595  0.074006   \n",
       "alcohol    0.140096  0.200813 -0.033403   0.100330  0.080520  0.039498   \n",
       "age        0.388771  0.450330  0.311799   0.625954  0.239667 -0.102606   \n",
       "chd        0.192354  0.299718  0.263053   0.254121  0.272373  0.103156   \n",
       "\n",
       "            obesity   alcohol       age       chd  \n",
       "sbp        0.238067  0.140096  0.388771  0.192354  \n",
       "tobacco    0.124529  0.200813  0.450330  0.299718  \n",
       "ldl        0.330506 -0.033403  0.311799  0.263053  \n",
       "adiposity  0.716556  0.100330  0.625954  0.254121  \n",
       "famhist    0.115595  0.080520  0.239667  0.272373  \n",
       "typea      0.074006  0.039498 -0.102606  0.103156  \n",
       "obesity    1.000000  0.051620  0.291777  0.100095  \n",
       "alcohol    0.051620  1.000000  0.101125  0.062531  \n",
       "age        0.291777  0.101125  1.000000  0.372973  \n",
       "chd        0.100095  0.062531  0.372973  1.000000  "
      ]
     },
     "execution_count": 301,
     "metadata": {},
     "output_type": "execute_result"
    }
   ],
   "source": [
    "SAHeart.corr()"
   ]
  },
  {
   "cell_type": "markdown",
   "id": "d9ee5504",
   "metadata": {},
   "source": [
    "#### Using the corvariance matrix we see that the most determinant factors are tobacco, idl, adiposity, famhist and age "
   ]
  },
  {
   "cell_type": "markdown",
   "id": "a8674f36",
   "metadata": {},
   "source": [
    "## (e)"
   ]
  },
  {
   "cell_type": "markdown",
   "id": "5cfde7d5",
   "metadata": {},
   "source": [
    "#### Using the corvariance matrix we see that indeed a family history of coronary heart disease affect a patients chance of having coronary heart disease"
   ]
  }
 ],
 "metadata": {
  "kernelspec": {
   "display_name": "Python 3",
   "language": "python",
   "name": "python3"
  },
  "language_info": {
   "codemirror_mode": {
    "name": "ipython",
    "version": 3
   },
   "file_extension": ".py",
   "mimetype": "text/x-python",
   "name": "python",
   "nbconvert_exporter": "python",
   "pygments_lexer": "ipython3",
   "version": "3.8.8"
  }
 },
 "nbformat": 4,
 "nbformat_minor": 5
}
